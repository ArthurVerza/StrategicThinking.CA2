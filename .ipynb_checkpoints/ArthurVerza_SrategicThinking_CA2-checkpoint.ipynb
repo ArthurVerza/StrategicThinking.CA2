{
 "cells": [
  {
   "cell_type": "code",
   "execution_count": 1,
   "id": "dd52835a",
   "metadata": {},
   "outputs": [],
   "source": [
    "# Load libraries\n",
    "import pandas as pd\n",
    "from sklearn.tree import DecisionTreeClassifier       # Import Decision Tree Classifier\n",
    "from sklearn.model_selection import train_test_split  # Import train_test_split function\n",
    "from sklearn import metrics                           # Import scikit-learn metrics module for accuracy calculation\n",
    "from sklearn import tree\n",
    "\n",
    "import warnings\n",
    "warnings.filterwarnings('ignore') # We can suppress the warnings\n"
   ]
  },
  {
   "cell_type": "code",
   "execution_count": null,
   "id": "fcb58421",
   "metadata": {},
   "outputs": [],
   "source": []
  },
  {
   "cell_type": "code",
   "execution_count": 2,
   "id": "2454bced",
   "metadata": {},
   "outputs": [],
   "source": [
    "# Define the labels for the sleep health datafile\n",
    "col_names = ['Gender','Age','Job', 'Sleep', 'Quality', 'Activity', 'Stress', 'Weight', 'Blood', 'BPM', 'Steps','Disorder']\n",
    "\n",
    "# load dataset\n",
    "df = pd.read_csv(\"sleep.health.csv\", header = 0, names = col_names)\n"
   ]
  },
  {
   "cell_type": "code",
   "execution_count": 3,
   "id": "1172817e",
   "metadata": {},
   "outputs": [
    {
     "data": {
      "text/html": [
       "<div>\n",
       "<style scoped>\n",
       "    .dataframe tbody tr th:only-of-type {\n",
       "        vertical-align: middle;\n",
       "    }\n",
       "\n",
       "    .dataframe tbody tr th {\n",
       "        vertical-align: top;\n",
       "    }\n",
       "\n",
       "    .dataframe thead th {\n",
       "        text-align: right;\n",
       "    }\n",
       "</style>\n",
       "<table border=\"1\" class=\"dataframe\">\n",
       "  <thead>\n",
       "    <tr style=\"text-align: right;\">\n",
       "      <th></th>\n",
       "      <th>Gender</th>\n",
       "      <th>Age</th>\n",
       "      <th>Job</th>\n",
       "      <th>Sleep</th>\n",
       "      <th>Quality</th>\n",
       "      <th>Activity</th>\n",
       "      <th>Stress</th>\n",
       "      <th>Weight</th>\n",
       "      <th>Blood</th>\n",
       "      <th>BPM</th>\n",
       "      <th>Steps</th>\n",
       "      <th>Disorder</th>\n",
       "    </tr>\n",
       "  </thead>\n",
       "  <tbody>\n",
       "    <tr>\n",
       "      <th>1</th>\n",
       "      <td>Male</td>\n",
       "      <td>27</td>\n",
       "      <td>Software Engineer</td>\n",
       "      <td>6.1</td>\n",
       "      <td>6</td>\n",
       "      <td>42</td>\n",
       "      <td>6</td>\n",
       "      <td>Overweight</td>\n",
       "      <td>126/83</td>\n",
       "      <td>77</td>\n",
       "      <td>4200</td>\n",
       "      <td>NaN</td>\n",
       "    </tr>\n",
       "    <tr>\n",
       "      <th>2</th>\n",
       "      <td>Male</td>\n",
       "      <td>28</td>\n",
       "      <td>Doctor</td>\n",
       "      <td>6.2</td>\n",
       "      <td>6</td>\n",
       "      <td>60</td>\n",
       "      <td>8</td>\n",
       "      <td>Normal</td>\n",
       "      <td>125/80</td>\n",
       "      <td>75</td>\n",
       "      <td>10000</td>\n",
       "      <td>NaN</td>\n",
       "    </tr>\n",
       "    <tr>\n",
       "      <th>3</th>\n",
       "      <td>Male</td>\n",
       "      <td>28</td>\n",
       "      <td>Doctor</td>\n",
       "      <td>6.2</td>\n",
       "      <td>6</td>\n",
       "      <td>60</td>\n",
       "      <td>8</td>\n",
       "      <td>Normal</td>\n",
       "      <td>125/80</td>\n",
       "      <td>75</td>\n",
       "      <td>10000</td>\n",
       "      <td>NaN</td>\n",
       "    </tr>\n",
       "    <tr>\n",
       "      <th>4</th>\n",
       "      <td>Male</td>\n",
       "      <td>28</td>\n",
       "      <td>Sales Representative</td>\n",
       "      <td>5.9</td>\n",
       "      <td>4</td>\n",
       "      <td>30</td>\n",
       "      <td>8</td>\n",
       "      <td>Obese</td>\n",
       "      <td>140/90</td>\n",
       "      <td>85</td>\n",
       "      <td>3000</td>\n",
       "      <td>Sleep Apnea</td>\n",
       "    </tr>\n",
       "    <tr>\n",
       "      <th>5</th>\n",
       "      <td>Male</td>\n",
       "      <td>28</td>\n",
       "      <td>Sales Representative</td>\n",
       "      <td>5.9</td>\n",
       "      <td>4</td>\n",
       "      <td>30</td>\n",
       "      <td>8</td>\n",
       "      <td>Obese</td>\n",
       "      <td>140/90</td>\n",
       "      <td>85</td>\n",
       "      <td>3000</td>\n",
       "      <td>Sleep Apnea</td>\n",
       "    </tr>\n",
       "  </tbody>\n",
       "</table>\n",
       "</div>"
      ],
      "text/plain": [
       "  Gender  Age                   Job  Sleep  Quality  Activity  Stress  \\\n",
       "1   Male   27     Software Engineer    6.1        6        42       6   \n",
       "2   Male   28                Doctor    6.2        6        60       8   \n",
       "3   Male   28                Doctor    6.2        6        60       8   \n",
       "4   Male   28  Sales Representative    5.9        4        30       8   \n",
       "5   Male   28  Sales Representative    5.9        4        30       8   \n",
       "\n",
       "       Weight   Blood  BPM  Steps     Disorder  \n",
       "1  Overweight  126/83   77   4200          NaN  \n",
       "2      Normal  125/80   75  10000          NaN  \n",
       "3      Normal  125/80   75  10000          NaN  \n",
       "4       Obese  140/90   85   3000  Sleep Apnea  \n",
       "5       Obese  140/90   85   3000  Sleep Apnea  "
      ]
     },
     "execution_count": 3,
     "metadata": {},
     "output_type": "execute_result"
    }
   ],
   "source": [
    "df.head()"
   ]
  },
  {
   "cell_type": "code",
   "execution_count": 4,
   "id": "d028a172",
   "metadata": {},
   "outputs": [
    {
     "data": {
      "text/plain": [
       "(374, 12)"
      ]
     },
     "execution_count": 4,
     "metadata": {},
     "output_type": "execute_result"
    }
   ],
   "source": [
    "df.shape"
   ]
  },
  {
   "cell_type": "code",
   "execution_count": 5,
   "id": "57c358a7",
   "metadata": {},
   "outputs": [
    {
     "data": {
      "text/plain": [
       "<bound method DataFrame.info of      Gender  Age                   Job  Sleep  Quality  Activity  Stress  \\\n",
       "1      Male   27     Software Engineer    6.1        6        42       6   \n",
       "2      Male   28                Doctor    6.2        6        60       8   \n",
       "3      Male   28                Doctor    6.2        6        60       8   \n",
       "4      Male   28  Sales Representative    5.9        4        30       8   \n",
       "5      Male   28  Sales Representative    5.9        4        30       8   \n",
       "..      ...  ...                   ...    ...      ...       ...     ...   \n",
       "370  Female   59                 Nurse    8.1        9        75       3   \n",
       "371  Female   59                 Nurse    8.0        9        75       3   \n",
       "372  Female   59                 Nurse    8.1        9        75       3   \n",
       "373  Female   59                 Nurse    8.1        9        75       3   \n",
       "374  Female   59                 Nurse    8.1        9        75       3   \n",
       "\n",
       "         Weight   Blood  BPM  Steps     Disorder  \n",
       "1    Overweight  126/83   77   4200          NaN  \n",
       "2        Normal  125/80   75  10000          NaN  \n",
       "3        Normal  125/80   75  10000          NaN  \n",
       "4         Obese  140/90   85   3000  Sleep Apnea  \n",
       "5         Obese  140/90   85   3000  Sleep Apnea  \n",
       "..          ...     ...  ...    ...          ...  \n",
       "370  Overweight  140/95   68   7000  Sleep Apnea  \n",
       "371  Overweight  140/95   68   7000  Sleep Apnea  \n",
       "372  Overweight  140/95   68   7000  Sleep Apnea  \n",
       "373  Overweight  140/95   68   7000  Sleep Apnea  \n",
       "374  Overweight  140/95   68   7000  Sleep Apnea  \n",
       "\n",
       "[374 rows x 12 columns]>"
      ]
     },
     "execution_count": 5,
     "metadata": {},
     "output_type": "execute_result"
    }
   ],
   "source": [
    "df.info"
   ]
  },
  {
   "cell_type": "code",
   "execution_count": 6,
   "id": "746ef382",
   "metadata": {},
   "outputs": [
    {
     "name": "stdout",
     "output_type": "stream",
     "text": [
      "<class 'pandas.core.frame.DataFrame'>\n",
      "Index: 374 entries, 1 to 374\n",
      "Data columns (total 12 columns):\n",
      " #   Column    Non-Null Count  Dtype  \n",
      "---  ------    --------------  -----  \n",
      " 0   Gender    374 non-null    object \n",
      " 1   Age       374 non-null    int64  \n",
      " 2   Job       374 non-null    object \n",
      " 3   Sleep     374 non-null    float64\n",
      " 4   Quality   374 non-null    int64  \n",
      " 5   Activity  374 non-null    int64  \n",
      " 6   Stress    374 non-null    int64  \n",
      " 7   Weight    374 non-null    object \n",
      " 8   Blood     374 non-null    object \n",
      " 9   BPM       374 non-null    int64  \n",
      " 10  Steps     374 non-null    int64  \n",
      " 11  Disorder  155 non-null    object \n",
      "dtypes: float64(1), int64(6), object(5)\n",
      "memory usage: 38.0+ KB\n"
     ]
    }
   ],
   "source": [
    "df.info()"
   ]
  },
  {
   "cell_type": "code",
   "execution_count": 7,
   "id": "df9c56a3",
   "metadata": {},
   "outputs": [
    {
     "data": {
      "text/html": [
       "<div>\n",
       "<style scoped>\n",
       "    .dataframe tbody tr th:only-of-type {\n",
       "        vertical-align: middle;\n",
       "    }\n",
       "\n",
       "    .dataframe tbody tr th {\n",
       "        vertical-align: top;\n",
       "    }\n",
       "\n",
       "    .dataframe thead th {\n",
       "        text-align: right;\n",
       "    }\n",
       "</style>\n",
       "<table border=\"1\" class=\"dataframe\">\n",
       "  <thead>\n",
       "    <tr style=\"text-align: right;\">\n",
       "      <th></th>\n",
       "      <th>Age</th>\n",
       "      <th>Sleep</th>\n",
       "      <th>Quality</th>\n",
       "      <th>Activity</th>\n",
       "      <th>Stress</th>\n",
       "      <th>BPM</th>\n",
       "      <th>Steps</th>\n",
       "    </tr>\n",
       "  </thead>\n",
       "  <tbody>\n",
       "    <tr>\n",
       "      <th>count</th>\n",
       "      <td>374.000000</td>\n",
       "      <td>374.000000</td>\n",
       "      <td>374.000000</td>\n",
       "      <td>374.000000</td>\n",
       "      <td>374.000000</td>\n",
       "      <td>374.000000</td>\n",
       "      <td>374.000000</td>\n",
       "    </tr>\n",
       "    <tr>\n",
       "      <th>mean</th>\n",
       "      <td>42.184492</td>\n",
       "      <td>7.132086</td>\n",
       "      <td>7.312834</td>\n",
       "      <td>59.171123</td>\n",
       "      <td>5.385027</td>\n",
       "      <td>70.165775</td>\n",
       "      <td>6816.844920</td>\n",
       "    </tr>\n",
       "    <tr>\n",
       "      <th>std</th>\n",
       "      <td>8.673133</td>\n",
       "      <td>0.795657</td>\n",
       "      <td>1.196956</td>\n",
       "      <td>20.830804</td>\n",
       "      <td>1.774526</td>\n",
       "      <td>4.135676</td>\n",
       "      <td>1617.915679</td>\n",
       "    </tr>\n",
       "    <tr>\n",
       "      <th>min</th>\n",
       "      <td>27.000000</td>\n",
       "      <td>5.800000</td>\n",
       "      <td>4.000000</td>\n",
       "      <td>30.000000</td>\n",
       "      <td>3.000000</td>\n",
       "      <td>65.000000</td>\n",
       "      <td>3000.000000</td>\n",
       "    </tr>\n",
       "    <tr>\n",
       "      <th>25%</th>\n",
       "      <td>35.250000</td>\n",
       "      <td>6.400000</td>\n",
       "      <td>6.000000</td>\n",
       "      <td>45.000000</td>\n",
       "      <td>4.000000</td>\n",
       "      <td>68.000000</td>\n",
       "      <td>5600.000000</td>\n",
       "    </tr>\n",
       "    <tr>\n",
       "      <th>50%</th>\n",
       "      <td>43.000000</td>\n",
       "      <td>7.200000</td>\n",
       "      <td>7.000000</td>\n",
       "      <td>60.000000</td>\n",
       "      <td>5.000000</td>\n",
       "      <td>70.000000</td>\n",
       "      <td>7000.000000</td>\n",
       "    </tr>\n",
       "    <tr>\n",
       "      <th>75%</th>\n",
       "      <td>50.000000</td>\n",
       "      <td>7.800000</td>\n",
       "      <td>8.000000</td>\n",
       "      <td>75.000000</td>\n",
       "      <td>7.000000</td>\n",
       "      <td>72.000000</td>\n",
       "      <td>8000.000000</td>\n",
       "    </tr>\n",
       "    <tr>\n",
       "      <th>max</th>\n",
       "      <td>59.000000</td>\n",
       "      <td>8.500000</td>\n",
       "      <td>9.000000</td>\n",
       "      <td>90.000000</td>\n",
       "      <td>8.000000</td>\n",
       "      <td>86.000000</td>\n",
       "      <td>10000.000000</td>\n",
       "    </tr>\n",
       "  </tbody>\n",
       "</table>\n",
       "</div>"
      ],
      "text/plain": [
       "              Age       Sleep     Quality    Activity      Stress         BPM  \\\n",
       "count  374.000000  374.000000  374.000000  374.000000  374.000000  374.000000   \n",
       "mean    42.184492    7.132086    7.312834   59.171123    5.385027   70.165775   \n",
       "std      8.673133    0.795657    1.196956   20.830804    1.774526    4.135676   \n",
       "min     27.000000    5.800000    4.000000   30.000000    3.000000   65.000000   \n",
       "25%     35.250000    6.400000    6.000000   45.000000    4.000000   68.000000   \n",
       "50%     43.000000    7.200000    7.000000   60.000000    5.000000   70.000000   \n",
       "75%     50.000000    7.800000    8.000000   75.000000    7.000000   72.000000   \n",
       "max     59.000000    8.500000    9.000000   90.000000    8.000000   86.000000   \n",
       "\n",
       "              Steps  \n",
       "count    374.000000  \n",
       "mean    6816.844920  \n",
       "std     1617.915679  \n",
       "min     3000.000000  \n",
       "25%     5600.000000  \n",
       "50%     7000.000000  \n",
       "75%     8000.000000  \n",
       "max    10000.000000  "
      ]
     },
     "execution_count": 7,
     "metadata": {},
     "output_type": "execute_result"
    }
   ],
   "source": [
    "df.describe()"
   ]
  },
  {
   "cell_type": "code",
   "execution_count": 8,
   "id": "d171b81a",
   "metadata": {},
   "outputs": [
    {
     "data": {
      "text/plain": [
       "Gender        0\n",
       "Age           0\n",
       "Job           0\n",
       "Sleep         0\n",
       "Quality       0\n",
       "Activity      0\n",
       "Stress        0\n",
       "Weight        0\n",
       "Blood         0\n",
       "BPM           0\n",
       "Steps         0\n",
       "Disorder    219\n",
       "dtype: int64"
      ]
     },
     "execution_count": 8,
     "metadata": {},
     "output_type": "execute_result"
    }
   ],
   "source": [
    "df.isnull().sum()"
   ]
  },
  {
   "cell_type": "code",
   "execution_count": 9,
   "id": "bffa004d",
   "metadata": {},
   "outputs": [
    {
     "data": {
      "text/plain": [
       "242"
      ]
     },
     "execution_count": 9,
     "metadata": {},
     "output_type": "execute_result"
    }
   ],
   "source": [
    "df.duplicated().sum()"
   ]
  },
  {
   "cell_type": "code",
   "execution_count": null,
   "id": "5c1a07c2",
   "metadata": {},
   "outputs": [],
   "source": []
  },
  {
   "cell_type": "code",
   "execution_count": null,
   "id": "21236e8d",
   "metadata": {},
   "outputs": [],
   "source": []
  },
  {
   "cell_type": "code",
   "execution_count": null,
   "id": "ef4e5aa9",
   "metadata": {},
   "outputs": [],
   "source": []
  },
  {
   "cell_type": "code",
   "execution_count": null,
   "id": "e9d26a5d",
   "metadata": {},
   "outputs": [],
   "source": []
  }
 ],
 "metadata": {
  "kernelspec": {
   "display_name": "Python 3 (ipykernel)",
   "language": "python",
   "name": "python3"
  },
  "language_info": {
   "codemirror_mode": {
    "name": "ipython",
    "version": 3
   },
   "file_extension": ".py",
   "mimetype": "text/x-python",
   "name": "python",
   "nbconvert_exporter": "python",
   "pygments_lexer": "ipython3",
   "version": "3.11.4"
  }
 },
 "nbformat": 4,
 "nbformat_minor": 5
}
